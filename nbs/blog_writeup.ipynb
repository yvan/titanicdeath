{
 "cells": [
  {
   "cell_type": "markdown",
   "metadata": {},
   "source": [
    "# <a href=\"http://titanicdeath.com\">titanicdeath.com</a>\n",
    "\n",
    "This is the writeup for <a href=\"http://titanicdeath.com\">titanicdeath.com</a>, besides having a truly fantastic name, this little website i created tells you whether or not you would be likely to die on the titanic provided some small amount of personal information.\n",
    "\n",
    "The first question you are probably asking is: <b>why did i die?</b> or <b>why did i live?</b>\n",
    "\n",
    "The biggest determining factor in whether you lived or died is your gender. <b>Females were much more likely to survive the sinking of the titanic than men.</b> If you have ever heard the phrase 'women and children first' you will have an intuitive understanding of why this is.\n",
    "\n",
    "The next bigest determinant of suvival is what class you travelled in; <b> passengers in first class were more likely to survive</b>. This makes some sense; often times first class passengers receive benefits. One of the benefits on a sinking ship may have been easier access to lifeboats. Third class passengers were below deck and may not have had time to escape.\n",
    "\n",
    "Age is another important factor, <b>the younger you are the more likely it is that you survived.</b> It seems young people and children had some level of priority on lifeboats.\n",
    "\n",
    "Whether you were traveling alone on the titanic helps to deterimine whether you passed away tragically or miraculously suvived. This is why <a href=\"http://titanicdeath.com\">titanicdeath.com</a> asks if you are married or have siblings. <b>Travellers who were alone on the titanic or travelling with large numbers of relatives were more likely to have died</b>. Many large families travelled in third class and death rates were higher there for a number of reasons. Travellers who were alone may have had to wait or may not have had lower priority (compared with women and children) on lifeboats.\n",
    "\n",
    "If you'd like a little more evidence proceed below.\n",
    "## <a href=\"http://titanicdeath.com/\">I want to try to survive the titanic again.</a>"
   ]
  },
  {
   "cell_type": "code",
   "execution_count": 17,
   "metadata": {
    "collapsed": false
   },
   "outputs": [],
   "source": [
    "#let us load the logistic regression model used\n",
    "import pandas as pd\n",
    "data_df = pd.read_csv('../titanicdeath/static/train.csv')"
   ]
  },
  {
   "cell_type": "markdown",
   "metadata": {},
   "source": [
    "The 'sex' input has the biggest effect on suvival.\n",
    "\n",
    "In our data i assigned women a value of 1 and men a value of 0. The positive coefficient of 2.2 means that <b>as we go more in a positive direction (towards 1/female gender) we are more likely to survive</b> and as we go more in a negative direction (towards 0/male gender) we are less likely to survive.\n",
    "\n",
    "You can see below the survival rates for women are 75% but for men are only about 19%."
   ]
  },
  {
   "cell_type": "code",
   "execution_count": 18,
   "metadata": {
    "collapsed": false
   },
   "outputs": [
    {
     "data": {
      "text/html": [
       "<div>\n",
       "<table border=\"1\" class=\"dataframe\">\n",
       "  <thead>\n",
       "    <tr style=\"text-align: right;\">\n",
       "      <th></th>\n",
       "      <th>Sex</th>\n",
       "      <th>Survived</th>\n",
       "    </tr>\n",
       "  </thead>\n",
       "  <tbody>\n",
       "    <tr>\n",
       "      <th>0</th>\n",
       "      <td>female</td>\n",
       "      <td>0.742038</td>\n",
       "    </tr>\n",
       "    <tr>\n",
       "      <th>1</th>\n",
       "      <td>male</td>\n",
       "      <td>0.188908</td>\n",
       "    </tr>\n",
       "  </tbody>\n",
       "</table>\n",
       "</div>"
      ],
      "text/plain": [
       "      Sex  Survived\n",
       "0  female  0.742038\n",
       "1    male  0.188908"
      ]
     },
     "execution_count": 18,
     "metadata": {},
     "output_type": "execute_result"
    }
   ],
   "source": [
    "data_df[['Sex', 'Survived']].groupby(['Sex'], as_index=False).mean().sort_values(by='Survived', ascending=False)"
   ]
  },
  {
   "cell_type": "markdown",
   "metadata": {},
   "source": [
    "The 'class' input has the next biggest effect on survival.\n",
    "\n",
    "In our data class was either a 1 (first), 2 (second), or 3 (third class). The negative value of the coefficient means that the more any one passenger's class goes in a positive direction (towards 3/third class) they become less likely to survive. <b>If a user's class input value is more towards the negative (towards 1/first class) that passenger becomes more likely to survive</b>.\n",
    "\n",
    "You can see here below that the survival rates ase highest for first class passengers were 63%, second class - 47%, third class - 24%."
   ]
  },
  {
   "cell_type": "code",
   "execution_count": 19,
   "metadata": {
    "collapsed": false
   },
   "outputs": [
    {
     "data": {
      "text/html": [
       "<div>\n",
       "<table border=\"1\" class=\"dataframe\">\n",
       "  <thead>\n",
       "    <tr style=\"text-align: right;\">\n",
       "      <th></th>\n",
       "      <th>Pclass</th>\n",
       "      <th>Survived</th>\n",
       "    </tr>\n",
       "  </thead>\n",
       "  <tbody>\n",
       "    <tr>\n",
       "      <th>0</th>\n",
       "      <td>1</td>\n",
       "      <td>0.629630</td>\n",
       "    </tr>\n",
       "    <tr>\n",
       "      <th>1</th>\n",
       "      <td>2</td>\n",
       "      <td>0.472826</td>\n",
       "    </tr>\n",
       "    <tr>\n",
       "      <th>2</th>\n",
       "      <td>3</td>\n",
       "      <td>0.242363</td>\n",
       "    </tr>\n",
       "  </tbody>\n",
       "</table>\n",
       "</div>"
      ],
      "text/plain": [
       "   Pclass  Survived\n",
       "0       1  0.629630\n",
       "1       2  0.472826\n",
       "2       3  0.242363"
      ]
     },
     "execution_count": 19,
     "metadata": {},
     "output_type": "execute_result"
    }
   ],
   "source": [
    "data_df[['Pclass', 'Survived']].groupby(['Pclass'], as_index=False).mean().sort_values(by='Survived', ascending=False)"
   ]
  },
  {
   "cell_type": "markdown",
   "metadata": {},
   "source": [
    "The age input affects your chances of survival as well.\n",
    "\n",
    "People from ages 0 - 16 have the highest chance of survival. Everyone older than that has lowered chances of surviving the sinking of the titanic."
   ]
  },
  {
   "cell_type": "code",
   "execution_count": 25,
   "metadata": {
    "collapsed": false
   },
   "outputs": [
    {
     "data": {
      "text/html": [
       "<div>\n",
       "<table border=\"1\" class=\"dataframe\">\n",
       "  <thead>\n",
       "    <tr style=\"text-align: right;\">\n",
       "      <th></th>\n",
       "      <th>AgeBand</th>\n",
       "      <th>Survived</th>\n",
       "    </tr>\n",
       "  </thead>\n",
       "  <tbody>\n",
       "    <tr>\n",
       "      <th>0</th>\n",
       "      <td>(0.34, 16.336]</td>\n",
       "      <td>0.550000</td>\n",
       "    </tr>\n",
       "    <tr>\n",
       "      <th>1</th>\n",
       "      <td>(16.336, 32.252]</td>\n",
       "      <td>0.369942</td>\n",
       "    </tr>\n",
       "    <tr>\n",
       "      <th>2</th>\n",
       "      <td>(32.252, 48.168]</td>\n",
       "      <td>0.404255</td>\n",
       "    </tr>\n",
       "    <tr>\n",
       "      <th>3</th>\n",
       "      <td>(48.168, 64.084]</td>\n",
       "      <td>0.434783</td>\n",
       "    </tr>\n",
       "    <tr>\n",
       "      <th>4</th>\n",
       "      <td>(64.084, 80]</td>\n",
       "      <td>0.090909</td>\n",
       "    </tr>\n",
       "  </tbody>\n",
       "</table>\n",
       "</div>"
      ],
      "text/plain": [
       "            AgeBand  Survived\n",
       "0    (0.34, 16.336]  0.550000\n",
       "1  (16.336, 32.252]  0.369942\n",
       "2  (32.252, 48.168]  0.404255\n",
       "3  (48.168, 64.084]  0.434783\n",
       "4      (64.084, 80]  0.090909"
      ]
     },
     "execution_count": 25,
     "metadata": {},
     "output_type": "execute_result"
    }
   ],
   "source": [
    "train_df['AgeBand'] = pd.cut(train_df['Age'], 5)\n",
    "train_df[['AgeBand', 'Survived']].groupby(['AgeBand'], as_index=False).mean().sort_values(by='AgeBand', ascending=True)"
   ]
  },
  {
   "cell_type": "markdown",
   "metadata": {},
   "source": [
    "There does appear to be a relationship between family size and survival chances. If you travelled with 1,2, or 3 people your chances of survival were decent (roughly 50-70%). if you travelled alone your chances of survival went down significantly to 30%. if you travelled with more than 5 people your chances were just as bad or worse. "
   ]
  },
  {
   "cell_type": "code",
   "execution_count": 30,
   "metadata": {
    "collapsed": false
   },
   "outputs": [
    {
     "data": {
      "text/html": [
       "<div>\n",
       "<table border=\"1\" class=\"dataframe\">\n",
       "  <thead>\n",
       "    <tr style=\"text-align: right;\">\n",
       "      <th></th>\n",
       "      <th>FamilySize</th>\n",
       "      <th>Survived</th>\n",
       "    </tr>\n",
       "  </thead>\n",
       "  <tbody>\n",
       "    <tr>\n",
       "      <th>3</th>\n",
       "      <td>3</td>\n",
       "      <td>0.724138</td>\n",
       "    </tr>\n",
       "    <tr>\n",
       "      <th>2</th>\n",
       "      <td>2</td>\n",
       "      <td>0.578431</td>\n",
       "    </tr>\n",
       "    <tr>\n",
       "      <th>1</th>\n",
       "      <td>1</td>\n",
       "      <td>0.552795</td>\n",
       "    </tr>\n",
       "    <tr>\n",
       "      <th>6</th>\n",
       "      <td>6</td>\n",
       "      <td>0.333333</td>\n",
       "    </tr>\n",
       "    <tr>\n",
       "      <th>0</th>\n",
       "      <td>0</td>\n",
       "      <td>0.303538</td>\n",
       "    </tr>\n",
       "    <tr>\n",
       "      <th>4</th>\n",
       "      <td>4</td>\n",
       "      <td>0.200000</td>\n",
       "    </tr>\n",
       "    <tr>\n",
       "      <th>5</th>\n",
       "      <td>5</td>\n",
       "      <td>0.136364</td>\n",
       "    </tr>\n",
       "    <tr>\n",
       "      <th>7</th>\n",
       "      <td>7</td>\n",
       "      <td>0.000000</td>\n",
       "    </tr>\n",
       "    <tr>\n",
       "      <th>8</th>\n",
       "      <td>10</td>\n",
       "      <td>0.000000</td>\n",
       "    </tr>\n",
       "  </tbody>\n",
       "</table>\n",
       "</div>"
      ],
      "text/plain": [
       "   FamilySize  Survived\n",
       "3           3  0.724138\n",
       "2           2  0.578431\n",
       "1           1  0.552795\n",
       "6           6  0.333333\n",
       "0           0  0.303538\n",
       "4           4  0.200000\n",
       "5           5  0.136364\n",
       "7           7  0.000000\n",
       "8          10  0.000000"
      ]
     },
     "execution_count": 30,
     "metadata": {},
     "output_type": "execute_result"
    }
   ],
   "source": [
    "data_df['FamilySize'] = data_df['SibSp'] + data_df['Parch']\n",
    "data_df[['FamilySize', 'Survived']].groupby(['FamilySize'], as_index=False).mean().sort_values(by='Survived', ascending=False)"
   ]
  },
  {
   "cell_type": "code",
   "execution_count": 31,
   "metadata": {
    "collapsed": true
   },
   "outputs": [],
   "source": [
    "from sklearn.externals import joblib\n",
    "logreg = joblib.load('../titanicdeath/static/logreg.pkl')\n",
    "age = 2\n",
    "fare = 0\n",
    "embarkation = 2\n",
    "title = 1\n",
    "is_alone = 1\n",
    "age_class = 6"
   ]
  },
  {
   "cell_type": "markdown",
   "metadata": {},
   "source": [
    "This bit of code takes in a passenger's input values and tells us what probability that user has of living and dying. the number shows our probability of survival. 7.8% here if we are a man (sex=0) and in third class (passenger_class=3)."
   ]
  },
  {
   "cell_type": "code",
   "execution_count": 33,
   "metadata": {
    "collapsed": false
   },
   "outputs": [
    {
     "data": {
      "text/plain": [
       "0.078280156772079126"
      ]
     },
     "execution_count": 33,
     "metadata": {},
     "output_type": "execute_result"
    }
   ],
   "source": [
    "passenger_class = 3 \n",
    "sex = 0 \n",
    "\n",
    "passenger_input = pd.DataFrame([[passenger_class, sex, age, fare, embarkation, title, is_alone, age_class]])\n",
    "pred = logreg.predict_proba(passenger_input)\n",
    "pred[0][1]"
   ]
  },
  {
   "cell_type": "markdown",
   "metadata": {},
   "source": [
    "If we change the sex from male to female (sex=1) we see a huge improvement in our chances of survival (now 43%)."
   ]
  },
  {
   "cell_type": "code",
   "execution_count": 34,
   "metadata": {
    "collapsed": false
   },
   "outputs": [
    {
     "data": {
      "text/plain": [
       "0.43427750040904095"
      ]
     },
     "execution_count": 34,
     "metadata": {},
     "output_type": "execute_result"
    }
   ],
   "source": [
    "passenger_class = 3 \n",
    "sex = 1\n",
    "\n",
    "passenger_input = pd.DataFrame([[passenger_class, sex, age, fare, embarkation, title, is_alone, age_class]])\n",
    "pred = logreg.predict_proba(passenger_input)\n",
    "pred[0][1]"
   ]
  },
  {
   "cell_type": "markdown",
   "metadata": {},
   "source": [
    "If we change the class from third class to first class (passenger_class=1) we improve odds of suvival even further to 77%."
   ]
  },
  {
   "cell_type": "code",
   "execution_count": 36,
   "metadata": {
    "collapsed": false
   },
   "outputs": [
    {
     "data": {
      "text/plain": [
       "0.77444683956853377"
      ]
     },
     "execution_count": 36,
     "metadata": {},
     "output_type": "execute_result"
    }
   ],
   "source": [
    "passenger_class = 1 \n",
    "sex = 1\n",
    "\n",
    "passenger_input = pd.DataFrame([[passenger_class, sex, age, fare, embarkation, title, is_alone, age_class]])\n",
    "pred = logreg.predict_proba(passenger_input)\n",
    "pred[0][1]"
   ]
  },
  {
   "cell_type": "markdown",
   "metadata": {},
   "source": [
    "Some of the inputs were too strange to ask. For example as an inhabitant of the modern day you do not possess a 'port of embarkation.' To resolve this i simply pulled a value at random from the dataset for 'port of embarkation.'\n",
    "\n",
    "I could have made the sampling process better by restricitng it to passengers whose data points matched those given by visitors to titanicdeath.com, so for example if a user marked that they usually travel first class, i could have sampled ports of embarkation only from passengers that travelled fist class on the titanic. I chose not to do this to add some element of randomness to the site. iI think of everything i do as an experimental product; most products require some variable reward (this is also a little bit more interesting and less predictable).\n",
    "\n",
    "iIf you would like to explore this data yourself there is a really nice tutorial here:\n",
    "\n",
    "https://www.kaggle.com/c/titanic\n",
    "\n",
    "https://www.kaggle.com/startupsci/titanic/titanic-data-science-solutions\n",
    "\n",
    "If you are interested in machine learning and a very good overview of how an algorithm like logistic regression works i highly recommend you check out the first 3 lectures of andrew ng's coursera course:\n",
    "\n",
    "https://www.coursera.org/learn/machine-learning"
   ]
  },
  {
   "cell_type": "code",
   "execution_count": null,
   "metadata": {
    "collapsed": true
   },
   "outputs": [],
   "source": []
  }
 ],
 "metadata": {
  "kernelspec": {
   "display_name": "Python 3",
   "language": "python",
   "name": "python3"
  },
  "language_info": {
   "codemirror_mode": {
    "name": "ipython",
    "version": 3
   },
   "file_extension": ".py",
   "mimetype": "text/x-python",
   "name": "python",
   "nbconvert_exporter": "python",
   "pygments_lexer": "ipython3",
   "version": "3.6.0"
  }
 },
 "nbformat": 4,
 "nbformat_minor": 2
}
